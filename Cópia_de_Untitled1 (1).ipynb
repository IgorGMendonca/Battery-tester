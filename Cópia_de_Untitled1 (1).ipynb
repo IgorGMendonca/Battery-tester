{
  "cells": [
    {
      "cell_type": "code",
      "execution_count": 1,
      "metadata": {
        "id": "pL8BaUMLo_a3"
      },
      "outputs": [],
      "source": [
        "import pandas as pd;"
      ]
    },
    {
      "cell_type": "code",
      "execution_count": 2,
      "metadata": {
        "id": "UencSf1M1xOP"
      },
      "outputs": [],
      "source": [
        "import numpy as np"
      ]
    },
    {
      "cell_type": "code",
      "execution_count": 3,
      "metadata": {
        "id": "03UEAUM46GBM"
      },
      "outputs": [],
      "source": [
        "dados = pd.read_excel(\"bateria.xlsx\")"
      ]
    },
    {
      "cell_type": "code",
      "execution_count": 8,
      "metadata": {
        "id": "c47tIkBFu8JR"
      },
      "outputs": [
        {
          "data": {
            "text/html": [
              "<div>\n",
              "<style scoped>\n",
              "    .dataframe tbody tr th:only-of-type {\n",
              "        vertical-align: middle;\n",
              "    }\n",
              "\n",
              "    .dataframe tbody tr th {\n",
              "        vertical-align: top;\n",
              "    }\n",
              "\n",
              "    .dataframe thead th {\n",
              "        text-align: right;\n",
              "    }\n",
              "</style>\n",
              "<table border=\"1\" class=\"dataframe\">\n",
              "  <thead>\n",
              "    <tr style=\"text-align: right;\">\n",
              "      <th></th>\n",
              "      <th>Unnamed: 0</th>\n",
              "      <th>Unnamed: 1</th>\n",
              "      <th>Unnamed: 2</th>\n",
              "    </tr>\n",
              "  </thead>\n",
              "  <tbody>\n",
              "    <tr>\n",
              "      <th>1</th>\n",
              "      <td>1653993903</td>\n",
              "      <td>1</td>\n",
              "      <td>250</td>\n",
              "    </tr>\n",
              "    <tr>\n",
              "      <th>2</th>\n",
              "      <td>1653993964</td>\n",
              "      <td>1</td>\n",
              "      <td>250</td>\n",
              "    </tr>\n",
              "    <tr>\n",
              "      <th>3</th>\n",
              "      <td>1653994024</td>\n",
              "      <td>1</td>\n",
              "      <td>250</td>\n",
              "    </tr>\n",
              "    <tr>\n",
              "      <th>4</th>\n",
              "      <td>1653994084</td>\n",
              "      <td>1</td>\n",
              "      <td>250</td>\n",
              "    </tr>\n",
              "    <tr>\n",
              "      <th>5</th>\n",
              "      <td>1653994144</td>\n",
              "      <td>1</td>\n",
              "      <td>250</td>\n",
              "    </tr>\n",
              "    <tr>\n",
              "      <th>...</th>\n",
              "      <td>...</td>\n",
              "      <td>...</td>\n",
              "      <td>...</td>\n",
              "    </tr>\n",
              "    <tr>\n",
              "      <th>183</th>\n",
              "      <td>1654005682.66667</td>\n",
              "      <td>1</td>\n",
              "      <td>249</td>\n",
              "    </tr>\n",
              "    <tr>\n",
              "      <th>184</th>\n",
              "      <td>1654005743.16667</td>\n",
              "      <td>1</td>\n",
              "      <td>249</td>\n",
              "    </tr>\n",
              "    <tr>\n",
              "      <th>185</th>\n",
              "      <td>1654005803.66667</td>\n",
              "      <td>1</td>\n",
              "      <td>250</td>\n",
              "    </tr>\n",
              "    <tr>\n",
              "      <th>186</th>\n",
              "      <td>1654005864.16667</td>\n",
              "      <td>1</td>\n",
              "      <td>250</td>\n",
              "    </tr>\n",
              "    <tr>\n",
              "      <th>187</th>\n",
              "      <td>1654005924.66667</td>\n",
              "      <td>1</td>\n",
              "      <td>250</td>\n",
              "    </tr>\n",
              "  </tbody>\n",
              "</table>\n",
              "<p>187 rows × 3 columns</p>\n",
              "</div>"
            ],
            "text/plain": [
              "           Unnamed: 0 Unnamed: 1 Unnamed: 2\n",
              "1          1653993903          1        250\n",
              "2          1653993964          1        250\n",
              "3          1653994024          1        250\n",
              "4          1653994084          1        250\n",
              "5          1653994144          1        250\n",
              "..                ...        ...        ...\n",
              "183  1654005682.66667          1        249\n",
              "184  1654005743.16667          1        249\n",
              "185  1654005803.66667          1        250\n",
              "186  1654005864.16667          1        250\n",
              "187  1654005924.66667          1        250\n",
              "\n",
              "[187 rows x 3 columns]"
            ]
          },
          "execution_count": 8,
          "metadata": {},
          "output_type": "execute_result"
        }
      ],
      "source": [
        "dados"
      ]
    },
    {
      "cell_type": "code",
      "execution_count": 5,
      "metadata": {
        "id": "u-nQSxMZvj8d"
      },
      "outputs": [],
      "source": [
        "dados.drop([0], inplace=True)"
      ]
    },
    {
      "cell_type": "code",
      "execution_count": 9,
      "metadata": {
        "id": "K3qsusf1Qr8c"
      },
      "outputs": [],
      "source": [
        "dados = dados.rename(columns={'Unnamed: 0': 'UTC', 'Unnamed: 1': 'STATUS', 'Unnamed: 2': 'BATERRY LEVEL'})"
      ]
    },
    {
      "cell_type": "code",
      "execution_count": 10,
      "metadata": {
        "colab": {
          "base_uri": "https://localhost:8080/",
          "height": 424
        },
        "id": "gkSJBiKQlAkm",
        "outputId": "c5ddd0e5-d6d9-4cbd-9b83-1ef1781365f5"
      },
      "outputs": [
        {
          "data": {
            "text/html": [
              "<div>\n",
              "<style scoped>\n",
              "    .dataframe tbody tr th:only-of-type {\n",
              "        vertical-align: middle;\n",
              "    }\n",
              "\n",
              "    .dataframe tbody tr th {\n",
              "        vertical-align: top;\n",
              "    }\n",
              "\n",
              "    .dataframe thead th {\n",
              "        text-align: right;\n",
              "    }\n",
              "</style>\n",
              "<table border=\"1\" class=\"dataframe\">\n",
              "  <thead>\n",
              "    <tr style=\"text-align: right;\">\n",
              "      <th></th>\n",
              "      <th>UTC</th>\n",
              "      <th>STATUS</th>\n",
              "      <th>BATERRY LEVEL</th>\n",
              "    </tr>\n",
              "  </thead>\n",
              "  <tbody>\n",
              "    <tr>\n",
              "      <th>1</th>\n",
              "      <td>1653993903</td>\n",
              "      <td>1</td>\n",
              "      <td>250</td>\n",
              "    </tr>\n",
              "    <tr>\n",
              "      <th>2</th>\n",
              "      <td>1653993964</td>\n",
              "      <td>1</td>\n",
              "      <td>250</td>\n",
              "    </tr>\n",
              "    <tr>\n",
              "      <th>3</th>\n",
              "      <td>1653994024</td>\n",
              "      <td>1</td>\n",
              "      <td>250</td>\n",
              "    </tr>\n",
              "    <tr>\n",
              "      <th>4</th>\n",
              "      <td>1653994084</td>\n",
              "      <td>1</td>\n",
              "      <td>250</td>\n",
              "    </tr>\n",
              "    <tr>\n",
              "      <th>5</th>\n",
              "      <td>1653994144</td>\n",
              "      <td>1</td>\n",
              "      <td>250</td>\n",
              "    </tr>\n",
              "    <tr>\n",
              "      <th>...</th>\n",
              "      <td>...</td>\n",
              "      <td>...</td>\n",
              "      <td>...</td>\n",
              "    </tr>\n",
              "    <tr>\n",
              "      <th>183</th>\n",
              "      <td>1654005682.66667</td>\n",
              "      <td>1</td>\n",
              "      <td>249</td>\n",
              "    </tr>\n",
              "    <tr>\n",
              "      <th>184</th>\n",
              "      <td>1654005743.16667</td>\n",
              "      <td>1</td>\n",
              "      <td>249</td>\n",
              "    </tr>\n",
              "    <tr>\n",
              "      <th>185</th>\n",
              "      <td>1654005803.66667</td>\n",
              "      <td>1</td>\n",
              "      <td>250</td>\n",
              "    </tr>\n",
              "    <tr>\n",
              "      <th>186</th>\n",
              "      <td>1654005864.16667</td>\n",
              "      <td>1</td>\n",
              "      <td>250</td>\n",
              "    </tr>\n",
              "    <tr>\n",
              "      <th>187</th>\n",
              "      <td>1654005924.66667</td>\n",
              "      <td>1</td>\n",
              "      <td>250</td>\n",
              "    </tr>\n",
              "  </tbody>\n",
              "</table>\n",
              "<p>187 rows × 3 columns</p>\n",
              "</div>"
            ],
            "text/plain": [
              "                  UTC STATUS BATERRY LEVEL\n",
              "1          1653993903      1           250\n",
              "2          1653993964      1           250\n",
              "3          1653994024      1           250\n",
              "4          1653994084      1           250\n",
              "5          1653994144      1           250\n",
              "..                ...    ...           ...\n",
              "183  1654005682.66667      1           249\n",
              "184  1654005743.16667      1           249\n",
              "185  1654005803.66667      1           250\n",
              "186  1654005864.16667      1           250\n",
              "187  1654005924.66667      1           250\n",
              "\n",
              "[187 rows x 3 columns]"
            ]
          },
          "execution_count": 10,
          "metadata": {},
          "output_type": "execute_result"
        }
      ],
      "source": [
        "dados.sort_values(by='UTC')"
      ]
    },
    {
      "cell_type": "code",
      "execution_count": 11,
      "metadata": {
        "id": "W53PuKJbHhYJ"
      },
      "outputs": [],
      "source": [
        "# transformar a tabela em um datafram\n",
        "dados = pd.DataFrame(dados)"
      ]
    },
    {
      "cell_type": "code",
      "execution_count": 12,
      "metadata": {
        "id": "QTXBNU8kTBdf"
      },
      "outputs": [],
      "source": [
        "dados = dados.rename(columns={'BATERRY LEVEL': 'bat_level'})"
      ]
    },
    {
      "cell_type": "code",
      "execution_count": 13,
      "metadata": {
        "colab": {
          "base_uri": "https://localhost:8080/"
        },
        "id": "zy4CfocMC2_g",
        "outputId": "3159b1c3-bbe8-4ba4-d4bb-1d23e5752f58"
      },
      "outputs": [
        {
          "data": {
            "text/plain": [
              "(187, 3)"
            ]
          },
          "execution_count": 13,
          "metadata": {},
          "output_type": "execute_result"
        }
      ],
      "source": [
        "dados.shape"
      ]
    },
    {
      "cell_type": "code",
      "execution_count": 14,
      "metadata": {
        "id": "N0iuqR0zN6f6"
      },
      "outputs": [],
      "source": [
        "# recebe o valor do número de linhas\n",
        "tam = len(dados)"
      ]
    },
    {
      "cell_type": "code",
      "execution_count": 15,
      "metadata": {
        "colab": {
          "base_uri": "https://localhost:8080/"
        },
        "id": "ZBrBAIUcL2rK",
        "outputId": "658a22ef-6706-45cb-90d4-39473c8c5a03"
      },
      "outputs": [
        {
          "name": "stdout",
          "output_type": "stream",
          "text": [
            "187\n"
          ]
        }
      ],
      "source": [
        "print(tam)"
      ]
    },
    {
      "cell_type": "code",
      "execution_count": 16,
      "metadata": {
        "id": "dy5524XzDSs7"
      },
      "outputs": [],
      "source": [
        "# array para a coluna status\n",
        "status = np.array(dados['STATUS'])"
      ]
    },
    {
      "cell_type": "code",
      "execution_count": 17,
      "metadata": {
        "id": "oUlG-vZaDZCp"
      },
      "outputs": [
        {
          "name": "stdout",
          "output_type": "stream",
          "text": [
            "[1 1 1 1 1 1 1 1 1 1 1 1 1 1 1 1 1 1 1 1 1 1 1 1 1 1 1 1 1 1 1 1 1 1 1 1 1\n",
            " 1 1 1 1 1 1 1 1 1 1 1 1 1 1 1 1 1 1 1 1 1 1 1 1 1 1 1 1 1 1 1 1 1 1 1 1 1\n",
            " 1 1 1 1 1 1 1 1 1 1 1 1 1 1 1 1 1 1 1 1 1 1 0 0 0 0 0 0 0 0 0 0 0 0 0 0 0\n",
            " 0 0 0 0 0 0 0 0 0 0 0 0 0 0 0 0 0 0 0 0 0 0 0 0 0 0 0 0 0 0 0 0 0 0 0 0 0\n",
            " 0 0 0 0 0 0 0 0 0 0 0 0 0 0 0 0 0 0 0 0 0 0 0 0 0 0 0 0 0 0 0 0 0 0 1 1 1\n",
            " 1 1]\n"
          ]
        }
      ],
      "source": [
        "print(status)"
      ]
    },
    {
      "cell_type": "code",
      "execution_count": 18,
      "metadata": {
        "id": "8U0huu4nztUQ"
      },
      "outputs": [],
      "source": [
        "# Array para guardar os valores de status = 1\n",
        "h = np.where(dados['STATUS'] == 1)"
      ]
    },
    {
      "cell_type": "code",
      "execution_count": 19,
      "metadata": {
        "id": "uos2cF4mz5GK"
      },
      "outputs": [
        {
          "name": "stdout",
          "output_type": "stream",
          "text": [
            "[  0   1   2   3   4   5   6   7   8   9  10  11  12  13  14  15  16  17\n",
            "  18  19  20  21  22  23  24  25  26  27  28  29  30  31  32  33  34  35\n",
            "  36  37  38  39  40  41  42  43  44  45  46  47  48  49  50  51  52  53\n",
            "  54  55  56  57  58  59  60  61  62  63  64  65  66  67  68  69  70  71\n",
            "  72  73  74  75  76  77  78  79  80  81  82  83  84  85  86  87  88  89\n",
            "  90  91  92  93  94  95 182 183 184 185 186]\n"
          ]
        }
      ],
      "source": [
        "print(h[0])"
      ]
    },
    {
      "cell_type": "code",
      "execution_count": 20,
      "metadata": {
        "id": "B0lcKcQIKwFu"
      },
      "outputs": [],
      "source": [
        "#array para os dados da bat\n",
        "bat = np.array(dados['bat_level'])"
      ]
    },
    {
      "cell_type": "code",
      "execution_count": 21,
      "metadata": {
        "id": "GdJXXMU5K0-7"
      },
      "outputs": [
        {
          "name": "stdout",
          "output_type": "stream",
          "text": [
            "[250 250 250 250 250 250 250 250 250 250 250 250 250 250 250 252 252 252\n",
            " 253 253 253 252 252 252 252 252 252 252 252 252 251 251 251 251 251 251\n",
            " 251 251 251 251 251 251 251 251 251 251 251 251 250 250 250 250 250 250\n",
            " 250 250 250 250 250 250 250 250 250 250 250 250 250 250 250 250 250 250\n",
            " 250 250 250 250 250 250 250 250 250 253 253 253 252 252 252 252 252 252\n",
            " 253 253 253 253 253 253 251 252 251 251 251 250 250 250 250 250 250 251\n",
            " 251 251 250 250 250 250 250 250 250 250 250 250 250 250 250 250 250 249\n",
            " 249 249 250 250 250 250 250 250 250 250 250 250 249 249 249 249 250 250\n",
            " 250 250 250 250 249 249 249 249 249 249 249 249 249 249 249 249 249 249\n",
            " 249 249 249 249 249 249 249 249 249 249 249 249 249 248 248 248 247 247\n",
            " 247 248 249 249 250 250 250]\n"
          ]
        }
      ],
      "source": [
        "print(bat)"
      ]
    },
    {
      "cell_type": "code",
      "execution_count": 22,
      "metadata": {
        "id": "dX1CjMAOoCkX"
      },
      "outputs": [],
      "source": [
        "# Atribuir primeiro valor para controle de bat_level\n",
        "z = np.where(dados['bat_level'] == h)"
      ]
    },
    {
      "cell_type": "code",
      "execution_count": 24,
      "metadata": {
        "id": "x6e-1QuQEakg"
      },
      "outputs": [],
      "source": [
        "# Atribuir primeiro valor para controle de UTC\n",
        "# y = dados['UTC'].min()\n",
        "utc = np.array(dados['UTC'])"
      ]
    },
    {
      "cell_type": "code",
      "execution_count": 25,
      "metadata": {
        "id": "0dvxnfibIVHD"
      },
      "outputs": [
        {
          "name": "stdout",
          "output_type": "stream",
          "text": [
            "[1653993903 1653993964 1653994024 1653994084 1653994144 1653994205\n",
            " 1653994264 1653994325 1653994385 1653994445 1653994506 1653994567\n",
            " 1653994628 1653994681 1653994742 1653994807 1653994868 1653994929\n",
            " 1653994989 1653995043 1653995104 1653995170 1653995230 1653995291\n",
            " 1653995351 1653995411 1653995472 1653995532 1653995593 1653995654\n",
            " 1653995712 1653995773 1653995834 1653995894 1653995955 1653996015\n",
            " 1653996075 1653996135 1653996196 1653996257 1653996316 1653996377\n",
            " 1653996437 1653996497 1653996558 1653996618 1653996679 1653996739\n",
            " 1653996799 1653996860 1653996920 1653996980 1653997041 1653997102\n",
            " 1653997161 1653997222 1653997283 1653997342 1653997403 1653997464\n",
            " 1653997524 1653997585 1653997645 1653997705 1653997766 1653997826\n",
            " 1653997886 1653997947 1653998008 1653998067 1653998127 1653998188\n",
            " 1653998248 1653998309 1653998369 1653998429 1653998490 1653998550\n",
            " 1653998610 1653998670 1653998731 1653998791 1653998852 1653998913\n",
            " 1653998972 1653999033 1653999094 1653999153 1653999213 1653999274\n",
            " 1653999334 1653999394 1653999455 1653999515 1653999575 1653999636\n",
            " 1654000553 1654000564 1654000602 1654000664 1654000725 1654000783\n",
            " 1654000846 1654000907 1654000964 1654001027 1654001088 1654001146\n",
            " 1654001209 1654001270 1654001328 1654001390 1654001451 1654001509\n",
            " 1654001572 1654001632 1654001691 1654001751 1654001812 1654001873\n",
            " 1654001934 1654001995 1654002052 1654002113 1654002174 1654002233\n",
            " 1654002296 1654002357 1654002417 1654002475 1654002536 1654002597\n",
            " 1654002656 1654002719 1654002779 1654002837 1654002901 1654002961\n",
            " 1654003022 1654003079 1654003140 1654003201 1654003260 1654003324\n",
            " 1654003384 1654003442 1654003503 1654003565 1654003626 1654003686\n",
            " 1654003747 1654003807 1654003868 1654003929 1654003989 1654004050\n",
            " 1654004110 1654004168 1654004229 1654004290 1654004351 1654004412\n",
            " 1654004473 1654004533 1654004594 1654004654 1654004714 1654004775\n",
            " 1654004836 1654004893 1654004957 1654005017 1654005075 1654005138\n",
            " 1654005198 1654005259 1654005319 1654005380 1654005441 1654005501\n",
            " 1654005562 1654005622 1654005682.66667 1654005743.16667 1654005803.66667\n",
            " 1654005864.16667 1654005924.66667]\n"
          ]
        }
      ],
      "source": [
        "print(utc)"
      ]
    },
    {
      "cell_type": "code",
      "execution_count": 26,
      "metadata": {
        "id": "kgLyStzb_AKI"
      },
      "outputs": [
        {
          "name": "stdout",
          "output_type": "stream",
          "text": [
            "[1 1 1 1 1 1 1 1 1 1 1 1 1 1 1 1 1 1 1 1 1 1 1 1 1 1 1 1 1 1 1 1 1 1 1 1 1\n",
            " 1 1 1 1 1 1 1 1 1 1 1 1 1 1 1 1 1 1 1 1 1 1 1 1 1 1 1 1 1 1 1 1 1 1 1 1 1\n",
            " 1 1 1 1 1 1 1 1 1 1 1 1 1 1 1 1 1 1 1 1 1 1 1 1 1 1 1]\n"
          ]
        }
      ],
      "source": [
        "print(status[h])"
      ]
    },
    {
      "cell_type": "code",
      "execution_count": 44,
      "metadata": {
        "id": "N0embBVQA5Fz"
      },
      "outputs": [],
      "source": [
        "convertidos = pd.DataFrame(columns = ['bat_charge_start', 'bat_charge_end', 'bat_level_start', 'bat_level_end', 'bat_cycle', 'bat_cycle_total', 'ts_reg'])"
      ]
    },
    {
      "cell_type": "code",
      "execution_count": 43,
      "metadata": {
        "id": "vknmvZpZc-AY"
      },
      "outputs": [],
      "source": [
        "convertidos.drop(['bat_charge_start', 'bat_charge_end', 'bat_level_start', 'bat_level_end', 'bat_cycle', 'bat_cycle_total', 'ts_reg'], axis=1, inplace=True)"
      ]
    },
    {
      "cell_type": "code",
      "execution_count": null,
      "metadata": {
        "id": "1ZMo4dJR6fgW"
      },
      "outputs": [],
      "source": [
        "convertidos.drop"
      ]
    },
    {
      "cell_type": "code",
      "execution_count": 29,
      "metadata": {
        "id": "7_fiuZwPxXhg"
      },
      "outputs": [],
      "source": [
        "# Valor para guardar a informação dos valores iguais a 0;\n",
        "b = np.where(dados['STATUS'] == 0)"
      ]
    },
    {
      "cell_type": "code",
      "execution_count": 30,
      "metadata": {
        "id": "vg7t0Rl3zQx9"
      },
      "outputs": [
        {
          "name": "stdout",
          "output_type": "stream",
          "text": [
            "(array([ 96,  97,  98,  99, 100, 101, 102, 103, 104, 105, 106, 107, 108,\n",
            "       109, 110, 111, 112, 113, 114, 115, 116, 117, 118, 119, 120, 121,\n",
            "       122, 123, 124, 125, 126, 127, 128, 129, 130, 131, 132, 133, 134,\n",
            "       135, 136, 137, 138, 139, 140, 141, 142, 143, 144, 145, 146, 147,\n",
            "       148, 149, 150, 151, 152, 153, 154, 155, 156, 157, 158, 159, 160,\n",
            "       161, 162, 163, 164, 165, 166, 167, 168, 169, 170, 171, 172, 173,\n",
            "       174, 175, 176, 177, 178, 179, 180, 181], dtype=int64),)\n"
          ]
        }
      ],
      "source": [
        "print(b)"
      ]
    },
    {
      "cell_type": "code",
      "execution_count": 33,
      "metadata": {
        "id": "Xzo9T_66zht-"
      },
      "outputs": [],
      "source": [
        "# Exemplo de loc -> retornará o valor de 0\n",
        "t = dados['UTC'].loc[96]"
      ]
    },
    {
      "cell_type": "code",
      "execution_count": 45,
      "metadata": {
        "id": "YANs58wX_FMc"
      },
      "outputs": [
        {
          "name": "stderr",
          "output_type": "stream",
          "text": [
            "C:\\Users\\Igor Gabriel\\AppData\\Local\\Temp\\ipykernel_10436\\625549061.py:6: FutureWarning: The frame.append method is deprecated and will be removed from pandas in a future version. Use pandas.concat instead.\n",
            "  convertidos = convertidos.append({'bat_charge_start': utc[teste], 'bat_level_start': bat[teste]}, ignore_index= True)\n",
            "C:\\Users\\Igor Gabriel\\AppData\\Local\\Temp\\ipykernel_10436\\625549061.py:6: FutureWarning: The frame.append method is deprecated and will be removed from pandas in a future version. Use pandas.concat instead.\n",
            "  convertidos = convertidos.append({'bat_charge_start': utc[teste], 'bat_level_start': bat[teste]}, ignore_index= True)\n"
          ]
        }
      ],
      "source": [
        "teste = 0\n",
        "variavel = 0\n",
        "\n",
        "for teste in range(tam):\n",
        "  if status[teste] == 1 and variavel == 0:\n",
        "    convertidos = convertidos.append({'bat_charge_start': utc[teste], 'bat_level_start': bat[teste]}, ignore_index= True)\n",
        "    variavel = 1\n",
        " \n",
        "  if status[teste] == 0 and variavel == 1:\n",
        "    convertidos['bat_charge_end'].fillna(utc[teste], inplace=True)\n",
        "    convertidos['bat_level_end'].fillna(bat[teste], inplace=True)\n",
        "    variavel = 0\n",
        "    \n",
        "teste =+ 1"
      ]
    },
    {
      "cell_type": "code",
      "execution_count": 46,
      "metadata": {
        "id": "3I3hP9b0YILe"
      },
      "outputs": [
        {
          "data": {
            "text/html": [
              "<div>\n",
              "<style scoped>\n",
              "    .dataframe tbody tr th:only-of-type {\n",
              "        vertical-align: middle;\n",
              "    }\n",
              "\n",
              "    .dataframe tbody tr th {\n",
              "        vertical-align: top;\n",
              "    }\n",
              "\n",
              "    .dataframe thead th {\n",
              "        text-align: right;\n",
              "    }\n",
              "</style>\n",
              "<table border=\"1\" class=\"dataframe\">\n",
              "  <thead>\n",
              "    <tr style=\"text-align: right;\">\n",
              "      <th></th>\n",
              "      <th>bat_charge_start</th>\n",
              "      <th>bat_charge_end</th>\n",
              "      <th>bat_level_start</th>\n",
              "      <th>bat_level_end</th>\n",
              "      <th>bat_cycle</th>\n",
              "      <th>bat_cycle_total</th>\n",
              "      <th>ts_reg</th>\n",
              "    </tr>\n",
              "  </thead>\n",
              "  <tbody>\n",
              "    <tr>\n",
              "      <th>0</th>\n",
              "      <td>1653993903</td>\n",
              "      <td>1.654001e+09</td>\n",
              "      <td>250</td>\n",
              "      <td>251.0</td>\n",
              "      <td>NaN</td>\n",
              "      <td>NaN</td>\n",
              "      <td>NaN</td>\n",
              "    </tr>\n",
              "    <tr>\n",
              "      <th>1</th>\n",
              "      <td>1654005682.66667</td>\n",
              "      <td>NaN</td>\n",
              "      <td>249.0</td>\n",
              "      <td>NaN</td>\n",
              "      <td>NaN</td>\n",
              "      <td>NaN</td>\n",
              "      <td>NaN</td>\n",
              "    </tr>\n",
              "  </tbody>\n",
              "</table>\n",
              "</div>"
            ],
            "text/plain": [
              "   bat_charge_start  bat_charge_end bat_level_start  bat_level_end bat_cycle  \\\n",
              "0        1653993903    1.654001e+09             250          251.0       NaN   \n",
              "1  1654005682.66667             NaN           249.0            NaN       NaN   \n",
              "\n",
              "  bat_cycle_total ts_reg  \n",
              "0             NaN    NaN  \n",
              "1             NaN    NaN  "
            ]
          },
          "execution_count": 46,
          "metadata": {},
          "output_type": "execute_result"
        }
      ],
      "source": [
        "convertidos"
      ]
    }
  ],
  "metadata": {
    "colab": {
      "collapsed_sections": [],
      "name": "Cópia de Untitled1.ipynb",
      "provenance": []
    },
    "interpreter": {
      "hash": "ffce01b50b87734065f290021708c133e1024daacaa58ef3029743e10868ad39"
    },
    "kernelspec": {
      "display_name": "Python 3.10.4 64-bit",
      "language": "python",
      "name": "python3"
    },
    "language_info": {
      "codemirror_mode": {
        "name": "ipython",
        "version": 3
      },
      "file_extension": ".py",
      "mimetype": "text/x-python",
      "name": "python",
      "nbconvert_exporter": "python",
      "pygments_lexer": "ipython3",
      "version": "3.10.4"
    }
  },
  "nbformat": 4,
  "nbformat_minor": 0
}
