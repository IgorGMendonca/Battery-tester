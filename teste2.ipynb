{
 "cells": [
  {
   "cell_type": "code",
   "execution_count": null,
   "metadata": {},
   "outputs": [],
   "source": [
    "import pandas as pd\n",
    "import numpy as np\n",
    "from datetime import time\n",
    "from datetime import date\n",
    "import matplotlib.pyplot as plt\n",
    "from fpdf import FPDF \n",
    "import datetime\n",
    "\n",
    "from datetime import datetime"
   ]
  },
  {
   "cell_type": "code",
   "execution_count": null,
   "metadata": {},
   "outputs": [],
   "source": [
    "dados = pd.read_fwf(\"CAA0164.txt\")"
   ]
  },
  {
   "cell_type": "code",
   "execution_count": null,
   "metadata": {},
   "outputs": [],
   "source": [
    "titulo = str('CAA0164 - 08')\n",
    "\n",
    "data_teste = str('01/12/2022')"
   ]
  },
  {
   "cell_type": "code",
   "execution_count": null,
   "metadata": {},
   "outputs": [],
   "source": [
    "dados = pd.DataFrame(dados)"
   ]
  },
  {
   "cell_type": "code",
   "execution_count": null,
   "metadata": {},
   "outputs": [],
   "source": [
    "dados['Current(A)'] = dados['Current(A)'].astype('str') \n",
    "dados['Current(A)'] = dados['Current(A)'].str.replace(',', '.')\n",
    "\n",
    "\n",
    "dados['Current(A)']= dados['Current(A)'].astype(float)"
   ]
  },
  {
   "cell_type": "code",
   "execution_count": null,
   "metadata": {},
   "outputs": [],
   "source": [
    "dados['Voltage(V)'] = dados['Voltage(V)'].astype('str') \n",
    "dados['Voltage(V)'] = dados['Voltage(V)'].str.replace(',', '.')\n",
    "\n",
    "dados['Voltage(V)']= dados['Voltage(V)'].astype(float)"
   ]
  },
  {
   "cell_type": "code",
   "execution_count": null,
   "metadata": {},
   "outputs": [],
   "source": [
    "dados.drop(dados.loc[dados['Current(A)'] < 0.8].index, inplace=True)\n",
    "dados = dados.dropna()\n"
   ]
  },
  {
   "cell_type": "code",
   "execution_count": null,
   "metadata": {},
   "outputs": [],
   "source": [
    "teste=[]\n",
    "for x in range (len(dados['Time'])):\n",
    "    teste.append(x)\n",
    "   \n",
    "dados.index=teste"
   ]
  },
  {
   "cell_type": "code",
   "execution_count": null,
   "metadata": {},
   "outputs": [],
   "source": [
    "dados.drop(dados.loc[dados.index > 14519].index, inplace=True)"
   ]
  },
  {
   "cell_type": "code",
   "execution_count": null,
   "metadata": {},
   "outputs": [],
   "source": [
    "tam = len(dados)"
   ]
  },
  {
   "cell_type": "code",
   "execution_count": null,
   "metadata": {},
   "outputs": [],
   "source": [
    "dados = dados.astype({\"Time\": np.datetime64})\n"
   ]
  },
  {
   "cell_type": "code",
   "execution_count": null,
   "metadata": {},
   "outputs": [],
   "source": [
    "tempo = dados['Time'].iloc[-1] - dados['Time'].iloc[0]\n",
    "\n",
    "tempo2 = tempo.seconds \n",
    "tempo2 = tempo /3600"
   ]
  },
  {
   "cell_type": "code",
   "execution_count": null,
   "metadata": {},
   "outputs": [],
   "source": [
    "hora_inicio = str(dados['Time'].iloc[0]).split(\" \")"
   ]
  },
  {
   "cell_type": "code",
   "execution_count": null,
   "metadata": {},
   "outputs": [
    {
     "name": "stderr",
     "output_type": "stream",
     "text": [
      "C:\\Users\\Igor Gabriel\\AppData\\Local\\Temp\\ipykernel_12312\\2311949953.py:3: SettingWithCopyWarning: \n",
      "A value is trying to be set on a copy of a slice from a DataFrame\n",
      "\n",
      "See the caveats in the documentation: https://pandas.pydata.org/pandas-docs/stable/user_guide/indexing.html#returning-a-view-versus-a-copy\n",
      "  dados['Time'][x] =(dados[\"Time\"][x].timestamp()-inicio)/3600\n",
      "C:\\Users\\Igor Gabriel\\AppData\\Local\\Temp\\ipykernel_12312\\2311949953.py:3: SettingWithCopyWarning: \n",
      "A value is trying to be set on a copy of a slice from a DataFrame\n",
      "\n",
      "See the caveats in the documentation: https://pandas.pydata.org/pandas-docs/stable/user_guide/indexing.html#returning-a-view-versus-a-copy\n",
      "  dados['Time'][x] =(dados[\"Time\"][x].timestamp()-inicio)/3600\n"
     ]
    }
   ],
   "source": [
    "inicio = dados['Time'][0].timestamp()\n",
    "for x in range (len(dados['Time'])):\n",
    "    dados['Time'][x] =(dados[\"Time\"][x].timestamp()-inicio)/3600\n"
   ]
  },
  {
   "cell_type": "code",
   "execution_count": null,
   "metadata": {},
   "outputs": [
    {
     "data": {
      "image/png": "[encoded data removed]",
      "text/plain": [
       "<Figure size 576x432 with 1 Axes>"
      ]
     },
     "metadata": {
      "needs_background": "light"
     },
     "output_type": "display_data"
    }
   ],
   "source": [
    "plt.figure(figsize=((8,6)))\n",
    "figure = plt.plot(dados['Time'], dados['Voltage(V)'])\n",
    "plt.xlabel(\"Tempo\")  \n",
    "plt.grid() \n",
    "plt.ylabel(\"Volts\") \n",
    "plt.yticks(np.arange(2.7, 4.1, 0.1))\n",
    "plt.title(titulo)\n",
    "plt.savefig('resultado.png')\n",
    "plt.show()\n"
   ]
  },
  {
   "cell_type": "code",
   "execution_count": null,
   "metadata": {},
   "outputs": [],
   "source": [
    "capacidade = tempo2 / (sum(dados['Current(A)']) / tam) \n",
    "capacidade = str(capacidade)\n",
    "capacidade = capacidade.split(\":\")\n",
    "capacidade = round(float(capacidade[2]), 3)"
   ]
  },
  {
   "cell_type": "code",
   "execution_count": null,
   "metadata": {},
   "outputs": [],
   "source": [
    "tempo = str(tempo)\n",
    "tempo = tempo.split(\" \")"
   ]
  },
  {
   "cell_type": "code",
   "execution_count": null,
   "metadata": {},
   "outputs": [
    {
     "data": {
      "text/plain": [
       "''"
      ]
     },
     "execution_count": 36,
     "metadata": {},
     "output_type": "execute_result"
    }
   ],
   "source": [
    "pdf = FPDF()\n",
    "\n",
    "pdf.add_page()\n",
    "pdf.set_font(\"Arial\", size = 15)\n",
    "\n",
    "pdf.cell(200, 10, txt = str(titulo),  \n",
    "         ln = 1, align = 'C')\n",
    "\n",
    "\n",
    "pdf.image('resultado.png', x = None, y = None, w = 0)\n",
    "\n",
    "\n",
    "\n",
    "\n",
    "pdf.cell(200, 10, txt =  '  ',  \n",
    "         ln = 1, align = 'L')\n",
    "\n",
    "pdf.cell(200, 10, txt = titulo +':',  \n",
    "         ln = 1, align = 'L')\n",
    "\n",
    "\n",
    "pdf.cell(200, 10, txt = 'Início: ' + str(data_teste) + ' ' + str(hora_inicio[1]),  \n",
    "         ln = 1, align = 'L')\n",
    "\n",
    "pdf.cell(200, 10, txt = 'Taxa de descarga: 1,00A',  \n",
    "         ln = 1, align = 'L')\n",
    "\n",
    "pdf.cell(200, 10, txt = 'Tensão Inicial: ' + str(dados['Voltage(V)'].iloc[0]) + ' V',  \n",
    "         ln = 1, align = 'L')\n",
    "pdf.cell(200, 10, txt = 'Tensão Final: ' + str(dados['Voltage(V)'].iloc[-1]) + ' V',  \n",
    "         ln = 1, align = 'L')\n",
    "\n",
    "pdf.cell(200, 10, txt = 'Tempo total de teste: ' + tempo[2],  \n",
    "         ln = 1, align = 'L')\n",
    "\n",
    "pdf.cell(200, 10, txt = 'Capacidade da bateria: ' + str(capacidade) + ' Ah',  \n",
    "         ln = 1, align = 'L')\n",
    "\n",
    "pdf.output(titulo+'.pdf')        "
   ]
  }
 ],
 "metadata": {
  "kernelspec": {
   "display_name": "Python 3.10.4 64-bit",
   "language": "python",
   "name": "python3"
  },
  "language_info": {
   "codemirror_mode": {
    "name": "ipython",
    "version": 3
   },
   "file_extension": ".py",
   "mimetype": "text/x-python",
   "name": "python",
   "nbconvert_exporter": "python",
   "pygments_lexer": "ipython3",
   "version": "3.10.4"
  },
  "orig_nbformat": 4,
  "vscode": {
   "interpreter": {
    "hash": "ffce01b50b87734065f290021708c133e1024daacaa58ef3029743e10868ad39"
   }
  }
 },
 "nbformat": 4,
 "nbformat_minor": 2
}
